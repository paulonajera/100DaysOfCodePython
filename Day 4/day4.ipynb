{
 "metadata": {
  "language_info": {
   "codemirror_mode": {
    "name": "ipython",
    "version": 3
   },
   "file_extension": ".py",
   "mimetype": "text/x-python",
   "name": "python",
   "nbconvert_exporter": "python",
   "pygments_lexer": "ipython3",
   "version": "3.7.4-final"
  },
  "orig_nbformat": 2,
  "kernelspec": {
   "name": "python3",
   "display_name": "Python 3",
   "language": "python"
  }
 },
 "nbformat": 4,
 "nbformat_minor": 2,
 "cells": [
  {
   "cell_type": "code",
   "execution_count": 10,
   "metadata": {},
   "outputs": [
    {
     "output_type": "stream",
     "name": "stdout",
     "text": [
      "5\n0.06066666571902257\n"
     ]
    }
   ],
   "source": [
    "# random integer and float\n",
    "import random\n",
    "\n",
    "random_integer = random.randint(1, 10)\n",
    "\n",
    "print(random_integer)\n",
    "\n",
    "random_float = random.random()\n",
    "print(random_float)"
   ]
  },
  {
   "cell_type": "code",
   "execution_count": 20,
   "metadata": {},
   "outputs": [
    {
     "output_type": "stream",
     "name": "stdout",
     "text": [
      "The coin landed on Heads.\n"
     ]
    }
   ],
   "source": [
    "# Heads or Tails\n",
    "\n",
    "#Write your code below this line 👇\n",
    "#Hint: Remember to import the random module first. 🎲\n",
    "import random\n",
    "\n",
    "decision = \"\"\n",
    "random_int = random.randint(1,2)\n",
    "\n",
    "\n",
    "if random_int == 1:\n",
    "    decision = \"Heads\"\n",
    "else:\n",
    "    decision = \"Tails\"\n",
    "\n",
    "\n",
    "print(f\"The coin landed on {decision}.\")"
   ]
  },
  {
   "cell_type": "code",
   "execution_count": 44,
   "metadata": {},
   "outputs": [
    {
     "output_type": "stream",
     "name": "stdout",
     "text": [
      "length of list: 6\nrandom number is: 4.\nBrown is going to buy the meal today!\n"
     ]
    }
   ],
   "source": [
    "# Who's Paying\n",
    "\n",
    "# Split string method\n",
    "names_string = input(\"Give me everybody's names, separated by a comma. \")\n",
    "names = names_string.split(\", \")\n",
    "# 🚨 Don't change the code above 👆\n",
    "\n",
    "#Write your code below this line 👇\n",
    "whos_paying = \"\"\n",
    "length = len(names)\n",
    "print(f\"length of list: {length}\")\n",
    "\n",
    "random_num = random.randint(0, length -1)\n",
    "print(f\"random number is: {random_num}.\")\n",
    "\n",
    "whos_paying = names[random_num]\n",
    "\n",
    "print(f\"{whos_paying} is going to buy the meal today!\")\n"
   ]
  },
  {
   "cell_type": "code",
   "execution_count": 91,
   "metadata": {},
   "outputs": [
    {
     "output_type": "stream",
     "name": "stdout",
     "text": [
      "['⬜️', '⬜️', '⬜️']\n",
      "['⬜️', '⬜️', '⬜️']\n",
      "['⬜️', '⬜️', '⬜️']\n",
      "\n",
      "\n",
      "['⬜️', '⬜️', '⬜️']\n",
      "['⬜️', '⬜️', '⬜️']\n",
      "['X', '⬜️', '⬜️']\n"
     ]
    }
   ],
   "source": [
    "# Treasure Map\n",
    "\n",
    "# 🚨 Don't change the code below 👇\n",
    "row1 = [\"⬜️\",\"⬜️\",\"⬜️\"]\n",
    "row2 = [\"⬜️\",\"⬜️\",\"⬜️\"]\n",
    "row3 = [\"⬜️\",\"⬜️\",\"⬜️\"]\n",
    "map = [row1, row2, row3]\n",
    "print(f\"{row1}\\n{row2}\\n{row3}\")\n",
    "position = input(\"Where do you want to put the treasure? \")\n",
    "# 🚨 Don't change the code above 👆\n",
    "\n",
    "#Write your code below this row 👇\n",
    "# turn position into integer\n",
    "\n",
    "\n",
    "coordinate = list(position)\n",
    "\n",
    "i_temp = int(coordinate[0])\n",
    "j_temp = int(coordinate[1])\n",
    "\n",
    "i = i_temp - 1\n",
    "j = j_temp -1\n",
    "\n",
    "# append([][])\n",
    "map[j][i] = \"X\"\n",
    "\n",
    "\n",
    "\n",
    "print(\"\\n\")\n",
    "\n",
    "##########################################################################################\n",
    "# \n",
    "# This exercise can be a little confusing for those that can read real wolrd maps.\n",
    "# When reading a map, one usually reads coordinates: Right and Up.\n",
    "# For this exercise, you are reading coordinates: Right and Down.\n",
    "# \n",
    "# ########################################################################################\n",
    "\n",
    "\n",
    "#Write your code above this row 👆\n",
    "\n",
    "# 🚨 Don't change the code below 👇\n",
    "print(f\"{row1}\\n{row2}\\n{row3}\")"
   ]
  },
  {
   "cell_type": "code",
   "execution_count": 109,
   "metadata": {},
   "outputs": [
    {
     "output_type": "stream",
     "name": "stdout",
     "text": [
      "Welcome to Rock, Paper, Scissors!\n",
      "User chose:\n",
      "\n",
      "    _______\n",
      "---'   ____)____\n",
      "          ______)\n",
      "       __________)\n",
      "      (____)\n",
      "---.__(___)\n",
      "\n",
      "Computer chose:\n",
      "\n",
      "    _______\n",
      "---'   ____)____\n",
      "          ______)\n",
      "          _______)\n",
      "         _______)\n",
      "---.__________)\n",
      "\n",
      "You win this round, for now.\n"
     ]
    }
   ],
   "source": [
    "# Rock, Paper, Scissors Game\n",
    "\n",
    "rock = '''\n",
    "    _______\n",
    "---'   ____)\n",
    "      (_____)\n",
    "      (_____)\n",
    "      (____)\n",
    "---.__(___)\n",
    "'''\n",
    "\n",
    "paper = '''\n",
    "    _______\n",
    "---'   ____)____\n",
    "          ______)\n",
    "          _______)\n",
    "         _______)\n",
    "---.__________)\n",
    "'''\n",
    "\n",
    "scissors = '''\n",
    "    _______\n",
    "---'   ____)____\n",
    "          ______)\n",
    "       __________)\n",
    "      (____)\n",
    "---.__(___)\n",
    "'''\n",
    "\n",
    "print(\"Welcome to Rock, Paper, Scissors!\")\n",
    "\n",
    "user_choice = int(input(\"What do you choose? Type 0 for Rock, 1 for Paper, or 2 for Scissors. \"))\n",
    "\n",
    "computer_choice = random.randint(0,2)\n",
    "\n",
    "\n",
    "if user_choice == 0:\n",
    "    print(f\"User chose:\\n{rock}\")\n",
    "elif user_choice == 1:\n",
    "    print(f\"User chose:\\n{paper}\")\n",
    "else:\n",
    "    print(f\"User chose:\\n{scissors}\")\n",
    "\n",
    "if computer_choice == 0:\n",
    "    print(f\"Computer chose:\\n{rock}\")\n",
    "elif computer_choice == 1:\n",
    "    print(f\"Computer chose:\\n{paper}\")\n",
    "else:\n",
    "    print(f\"Computer chose:\\n{scissors}\")\n",
    "\n",
    "computer_wins = \"The computer has won this round.\"\n",
    "user_wins = \"You win this round, for now.\"\n",
    "\n",
    "if (user_choice == computer_choice):\n",
    "    print(\"The game is a Draw.\")\n",
    "elif ((user_choice == 0) & (computer_choice == 1)):\n",
    "    print(computer_wins)\n",
    "elif ((user_choice == 1) & (computer_choice == 2)):\n",
    "    print(computer_wins)\n",
    "elif ((user_choice == 2) & (computer_choice == 0)):\n",
    "    print(computer_wins)\n",
    "else:\n",
    "    print(user_wins)\n",
    "\n",
    "\n",
    "\n"
   ]
  },
  {
   "cell_type": "code",
   "execution_count": 94,
   "metadata": {},
   "outputs": [
    {
     "output_type": "stream",
     "name": "stdout",
     "text": [
      "0 1\n"
     ]
    }
   ],
   "source": [
    "print(user_choice, computer_choice)"
   ]
  },
  {
   "cell_type": "code",
   "execution_count": null,
   "metadata": {},
   "outputs": [],
   "source": []
  }
 ]
}