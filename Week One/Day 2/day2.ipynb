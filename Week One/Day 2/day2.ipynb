{
 "metadata": {
  "language_info": {
   "codemirror_mode": {
    "name": "ipython",
    "version": 3
   },
   "file_extension": ".py",
   "mimetype": "text/x-python",
   "name": "python",
   "nbconvert_exporter": "python",
   "pygments_lexer": "ipython3",
   "version": "3.7.4-final"
  },
  "orig_nbformat": 2,
  "kernelspec": {
   "name": "python3",
   "display_name": "Python 3",
   "language": "python"
  }
 },
 "nbformat": 4,
 "nbformat_minor": 2,
 "cells": [
  {
   "cell_type": "code",
   "execution_count": 1,
   "metadata": {},
   "outputs": [
    {
     "output_type": "stream",
     "name": "stdout",
     "text": [
      "your name has 5 characters.\n"
     ]
    }
   ],
   "source": [
    "num_char = len(input(\"what is your name?\"))\n",
    "\n",
    "# prime example of typecasting, turning a variable from one data type to another\n",
    "new_num_char = str(num_char)\n",
    "\n",
    "print(\"your name has \" + new_num_char +\" characters.\")"
   ]
  },
  {
   "cell_type": "code",
   "execution_count": 13,
   "metadata": {},
   "outputs": [
    {
     "output_type": "stream",
     "name": "stdout",
     "text": [
      "8\n"
     ]
    }
   ],
   "source": [
    "# 🚨 Don't change the code below 👇\n",
    "two_digit_number = input(\"Type a two digit number: \")\n",
    "# 🚨 Don't change the code above 👆\n",
    "\n",
    "####################################\n",
    "#Write your code below this line 👇\n",
    "\n",
    "if len(two_digit_number) < 3:\n",
    "    a = int(two_digit_number[0])\n",
    "    b = int(two_digit_number[1])\n",
    "\n",
    "    result = a + b\n",
    "    print(result)\n",
    "else:\n",
    "    print(\"im only asking for a two digit integer, try again\")"
   ]
  },
  {
   "cell_type": "code",
   "execution_count": 15,
   "metadata": {},
   "outputs": [
    {
     "output_type": "stream",
     "name": "stdout",
     "text": [
      "<class 'float'>\n29\n<class 'int'>\n"
     ]
    }
   ],
   "source": [
    "#BMI Calculator\n",
    "\n",
    "# 🚨 Don't change the code below 👇\n",
    "height = input(\"enter your height in m: \") # 1.7\n",
    "weight = input(\"enter your weight in kg: \") # 83.9\n",
    "# 🚨 Don't change the code above 👆\n",
    "\n",
    "# BMI = weight/height**2(m**2)\n",
    "\n",
    "#Write your code below this line 👇\n",
    "\n",
    "# turn inputs into floats\n",
    "num_height = float(height)\n",
    "num_weight = float(weight)\n",
    "\n",
    "# calculate bmi with floats\n",
    "bmi_temp = num_weight / (num_height**2)\n",
    "print(type(bmi_temp))\n",
    "\n",
    "# turn result of calc into int\n",
    "bmi = int(bmi_temp)\n",
    "\n",
    "print(bmi)\n",
    "print(type(bmi))\n"
   ]
  },
  {
   "cell_type": "code",
   "execution_count": 16,
   "metadata": {},
   "outputs": [
    {
     "output_type": "stream",
     "name": "stdout",
     "text": [
      "your score is 0, your height is 1.8, you are winning is True\n"
     ]
    }
   ],
   "source": [
    "# example on how to use f-String\n",
    "\n",
    "score = 0\n",
    "height = 1.8\n",
    "isWinning = True\n",
    "# f-String\n",
    "print(f\"your score is {score}, your height is {height}, you are winning is {isWinning}\")"
   ]
  },
  {
   "cell_type": "code",
   "execution_count": 21,
   "metadata": {},
   "outputs": [
    {
     "output_type": "stream",
     "name": "stdout",
     "text": [
      "The amount of years left is: 62, months left is: 744, weeks left is: 3224, days left is: 22630.\n"
     ]
    }
   ],
   "source": [
    "# Your Life in Weeks calculator\n",
    "\n",
    "# 🚨 Don't change the code below 👇\n",
    "age = input(\"What is your current age?\")\n",
    "# 🚨 Don't change the code above 👆\n",
    "\n",
    "#Write your code below this line 👇\n",
    "\n",
    "num_age = int(age)\n",
    "\n",
    "# 365 days in a year\n",
    "# 52 weeks in a year\n",
    "# 12 months in a year\n",
    "# standard age will be 90 years of age\n",
    "standard_age = 90\n",
    "\n",
    "# calculate the number of years left\n",
    "years_left = standard_age - num_age\n",
    "#print(f\"The amount of years left is: {years_left}\")\n",
    "\n",
    "# calculate the number of months left\n",
    "months_left = years_left * 12\n",
    "#print(f\"The amount of months left is: {months_left}\")\n",
    "\n",
    "# calculate the number of weeks left\n",
    "weeks_left = years_left * 52\n",
    "#print(f\"The amount of weeks left is: {weeks_left}\")\n",
    "\n",
    "days_left = years_left * 365\n",
    "\n",
    "\n",
    "print(f\"The amount of years left is: {years_left}, months left is: {months_left}, weeks left is: {weeks_left}, days left is: {days_left}.\")\n",
    "\n",
    "\n"
   ]
  },
  {
   "cell_type": "code",
   "execution_count": 44,
   "metadata": {},
   "outputs": [
    {
     "output_type": "stream",
     "name": "stdout",
     "text": [
      "Hello and welcome to the tip calculator!\n",
      "So your bill is $124.56, split umongst 7 people.\n",
      "Great! You decided to give a 12% tip.\n",
      "The true tip is 0.12\n",
      "Each person should pay: $19.93.\n"
     ]
    }
   ],
   "source": [
    "# Tip Calculator\n",
    "# round to 2 decimal places\n",
    "# ask for how many people are splitting the bill\n",
    "\n",
    "#If the bill was $150.00, split between 5 people, with 12% tip. \n",
    "#Each person should pay (150.00 / 5) * 1.12 = 33.6\n",
    "#Format the result to 2 decimal places = 33.60\n",
    "#Tip: There are 2 ways to round a number. You might have to do some Googling to solve this.💪\n",
    "#HINT 1: https://www.google.com/search?q=how+to+round+number+to+2+decimal+places+python&oq=how+to+round+number+to+2+decimal\n",
    "#HINT 2: https://www.kite.com/python/answers/how-to-limit-a-float-to-two-decimal-places-in-python\n",
    "\n",
    "print(\"Hello and welcome to the tip calculator!\")\n",
    "split = input(\"How many people did you dine with today? \")\n",
    "bill = input(\"How much is the bill? $\")\n",
    "\n",
    "\n",
    "# data change to integer/float\n",
    "int_split = int(split)\n",
    "float_bill = float(bill)\n",
    "\n",
    "# print the bill and confirm split\n",
    "print(f\"So your bill is ${float_bill:.2f}, split amongst {int_split} people.\")\n",
    "\n",
    "# ask for tip percentage\n",
    "str_tip = input(\"How much would you like to tip? 15 or 20 percent?\")\n",
    "print(f\"Great! You decided to give a {str_tip}% tip.\")\n",
    "\n",
    "# change datatype for tip\n",
    "temp_tip = float(str_tip)\n",
    "true_tip = temp_tip / 100\n",
    "print(f\"The true tip is {true_tip}\")\n",
    "\n",
    "\n",
    "# split the bill\n",
    "split_bill = float_bill / int_split\n",
    "\n",
    "# determine the tip for a split bill\n",
    "split_tip = split_bill * true_tip \n",
    "\n",
    "# now determine the total bill for one person\n",
    "total_bill = split_bill + split_tip\n",
    "\n",
    "print(f\"Each person should pay: ${round(total_bill, 2)}.\")\n",
    "\n"
   ]
  },
  {
   "cell_type": "code",
   "execution_count": null,
   "metadata": {},
   "outputs": [],
   "source": [
    "# Tip calculator solution\n",
    "\n",
    "#If the bill was $150.00, split between 5 people, with 12% tip. \n",
    "#Each person should pay (150.00 / 5) * 1.12 = 33.6\n",
    "#Round the result to 2 decimal places.\n",
    "print(\"Welcome to the tip calculator!\")\n",
    "bill = float(input(\"What was the total bill? $\"))\n",
    "tip = int(input(\"How much tip would you like to give? 10, 12, or 15? \"))\n",
    "people = int(input(\"How many people to split the bill?\"))\n",
    "\n",
    "tip_as_percent = tip / 100\n",
    "total_tip_amount = bill * tip_as_percent\n",
    "total_bill = bill + total_tip_amount\n",
    "bill_per_person = total_bill / people\n",
    "final_amount = round(bill_per_person, 2)\n",
    "final_amount = \"{:.2f}\".format(bill_per_person)\n",
    "\n",
    "#FAQ: How to round to 2 decimal places?\n",
    "#https://www.udemy.com/course/100-days-of-code/learn/lecture/17965132#questions/13315048\n",
    "\n",
    "print(f\"Each person should pay: ${final_amount}\")"
   ]
  }
 ]
}