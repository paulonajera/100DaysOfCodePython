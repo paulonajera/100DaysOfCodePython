{
 "metadata": {
  "language_info": {
   "codemirror_mode": {
    "name": "ipython",
    "version": 3
   },
   "file_extension": ".py",
   "mimetype": "text/x-python",
   "name": "python",
   "nbconvert_exporter": "python",
   "pygments_lexer": "ipython3",
   "version": "3.7.4-final"
  },
  "orig_nbformat": 2,
  "kernelspec": {
   "name": "python3",
   "display_name": "Python 3.7.4 64-bit ('base': conda)",
   "metadata": {
    "interpreter": {
     "hash": "41e630cfc46a4c9c6632505eadfe291fb117124884040fabbe299599a8f58d1c"
    }
   }
  }
 },
 "nbformat": 4,
 "nbformat_minor": 2,
 "cells": [
  {
   "cell_type": "code",
   "execution_count": 9,
   "metadata": {},
   "outputs": [
    {
     "output_type": "stream",
     "name": "stdout",
     "text": [
      "baboon\n",
      "6\n",
      " _  _  _  _  _  _ \n",
      "Can you guess the word? How about a letter? \n",
      "Sorry, guess again.\n",
      "Sorry, guess again.\n",
      "Sorry, guess again.\n",
      "Sorry, guess again.\n",
      "Sorry, guess again.\n",
      "Sorry, guess again.\n"
     ]
    }
   ],
   "source": [
    "import random\n",
    "#Step 1 \n",
    "\n",
    "word_list = [\"aardvark\", \"baboon\", \"camel\"]\n",
    "# this picks a random word from the list\n",
    "word = random.choice(word_list)\n",
    "print(word)\n",
    "# this grabs the length of the selected string \n",
    "length = len(word)\n",
    "print(length)\n",
    "\n",
    "answer = \" _ \" * length\n",
    "\n",
    "print(answer)\n",
    "guessLetter = input(print(\"Can you guess the word? How about a letter? \"))\n",
    "\n",
    "for letter in word:\n",
    "    if letter == guessLetter:\n",
    "        print(\"The letter you chose is in the word. \")\n",
    "    else:\n",
    "        print(\"Sorry, guess again.\")\n",
    "\n",
    "\n",
    "#TODO-1 - Randomly choose a word from the word_list and assign it to a variable called chosen_word.\n",
    "\n",
    "#TODO-2 - Ask the user to guess a letter and assign their answer to a variable called guess. Make guess lowercase.\n",
    "\n",
    "#TODO-3 - Check if the letter the user guessed (guess) is one of the letters in the chosen_word."
   ]
  },
  {
   "cell_type": "code",
   "execution_count": null,
   "metadata": {},
   "outputs": [],
   "source": []
  }
 ]
}