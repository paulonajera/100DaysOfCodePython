{
 "metadata": {
  "language_info": {
   "codemirror_mode": {
    "name": "ipython",
    "version": 3
   },
   "file_extension": ".py",
   "mimetype": "text/x-python",
   "name": "python",
   "nbconvert_exporter": "python",
   "pygments_lexer": "ipython3",
   "version": "3.9.0"
  },
  "orig_nbformat": 2,
  "kernelspec": {
   "name": "python390jvsc74a57bd0b4224f7bc518dcf38da7f7331690cb5a20b254237a28033adb49a181569c9d65",
   "display_name": "Python 3.9.0 64-bit"
  },
  "metadata": {
   "interpreter": {
    "hash": "b4224f7bc518dcf38da7f7331690cb5a20b254237a28033adb49a181569c9d65"
   }
  }
 },
 "nbformat": 4,
 "nbformat_minor": 2,
 "cells": [
  {
   "cell_type": "code",
   "execution_count": null,
   "metadata": {},
   "outputs": [],
   "source": [
    "# Review: \n",
    "# Create a function called greet(). \n",
    "# Write 3 print statements inside the function.\n",
    "# Call the greet() function and run your code.\n",
    "\n",
    "# def greet():\n",
    "    # print(\"Hello\")\n",
    "    # print(\"How are you?\")\n",
    "    # print(\"Great, how are you?\")\n",
    "\n",
    "# greet()\n",
    "\n",
    "#greet with name\n",
    "# def greet_with_name(name):\n",
    "    # print(f\"Hello {name}\")\n",
    "    # print(f\"How are you {name}?\")\n",
    "    \n",
    "# greet_with_name(\"Paulo\")\n",
    "\n",
    "# functions with more than 1 input\n",
    "# def greet_with(name, location):\n",
    "#     print(f\"Hello {name}\")\n",
    "#     print(f\"How is the weather in {location}?\")\n",
    "\n",
    "# greet_with(\"Paulo\", \"Dallas\")\n",
    "\n",
    "# functions with keyword arguements\n",
    "def greet_with_args(name, location):\n",
    "    print(f\"Hello {name}\")\n",
    "    print(f\"How is the weather in {location}?\")\n",
    "\n",
    "greet_with_args(location=\"Dallas\", name=\"Paulo\")"
   ]
  },
  {
   "cell_type": "code",
   "execution_count": null,
   "metadata": {},
   "outputs": [],
   "source": [
    "#Write your code below this line 👇\n",
    "import math\n",
    "def paint_calc(height, width, cover):\n",
    "    number_of_cans = math.ceil((height * width)/cover)\n",
    "    \n",
    "    print(f\"You'll need {number_of_cans} cans of paint.\")\n",
    "\n",
    "\n",
    "#Write your code above this line 👆\n",
    "# Define a function called paint_calc() so that the code below works.   \n",
    "\n",
    "# 🚨 Don't change the code below 👇\n",
    "test_h = int(input(\"Height of wall: \"))\n",
    "test_w = int(input(\"Width of wall: \"))\n",
    "coverage = 5\n",
    "paint_calc(height=test_h, width=test_w, cover=coverage)\n",
    "\n"
   ]
  }
 ]
}