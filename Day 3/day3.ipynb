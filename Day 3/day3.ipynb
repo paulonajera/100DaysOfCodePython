{
 "metadata": {
  "language_info": {
   "codemirror_mode": {
    "name": "ipython",
    "version": 3
   },
   "file_extension": ".py",
   "mimetype": "text/x-python",
   "name": "python",
   "nbconvert_exporter": "python",
   "pygments_lexer": "ipython3",
   "version": "3.7.4-final"
  },
  "orig_nbformat": 2,
  "kernelspec": {
   "name": "python3",
   "display_name": "Python 3",
   "language": "python"
  }
 },
 "nbformat": 4,
 "nbformat_minor": 2,
 "cells": [
  {
   "cell_type": "code",
   "execution_count": 28,
   "metadata": {},
   "outputs": [
    {
     "output_type": "stream",
     "name": "stdout",
     "text": [
      "Welcome to the rollercoaster!\n",
      "Eligible to buy a ticket. \n",
      "Senior citizen tickets are $0.\n",
      "Your final bill is $3.\n"
     ]
    }
   ],
   "source": [
    "print(\"Welcome to the rollercoaster!\")\n",
    "height = int(input(\"What is your height in cm? \"))\n",
    "\n",
    "bill = 0\n",
    "\n",
    "# height needs to be 120cm to purchase ticket\n",
    "if height >= 120:\n",
    "    print(\"Eligible to buy a ticket. \")\n",
    "    age = int(input(\"What is your age? \"))\n",
    "    if age < 12:\n",
    "        bill = 5\n",
    "        print(\"Child tickets are $5.\")\n",
    "    elif age < 18:\n",
    "        bill = 7\n",
    "        print(\"Youth tickets are $7.\")\n",
    "    elif age <= 55 and age >= 45:\n",
    "        # bill = 0\n",
    "        print(\"Senior citizen tickets are $0.\")\n",
    "    else:\n",
    "        bill = 12\n",
    "        print(\"Adult tickets are $12.\")\n",
    "\n",
    "    \n",
    "\n",
    "\n",
    "\n",
    "    \n",
    "    # implement conditions for photo taken\n",
    "    wants_photo = input(\"Do you want a photo taken? Y or N? \")\n",
    "    if wants_photo == \"Y\":\n",
    "        #add 3 to their bill\n",
    "        bill += 3\n",
    "\n",
    "    print(f\"Your final bill is ${bill}.\")\n",
    "\n",
    "else:\n",
    "    print(\"Sorry, you can not buy a ticket. \")\n",
    "\n",
    "\n",
    "# implement conditions for photo taken\n",
    "\n",
    "\n",
    "\n",
    "\n"
   ]
  },
  {
   "cell_type": "code",
   "execution_count": 4,
   "metadata": {},
   "outputs": [
    {
     "output_type": "stream",
     "name": "stdout",
     "text": [
      "This is an odd number.\n"
     ]
    }
   ],
   "source": [
    "# Odd or Even\n",
    "\n",
    "# 🚨 Don't change the code below 👇\n",
    "number = int(input(\"Which number do you want to check? \"))\n",
    "# 🚨 Don't change the code above 👆\n",
    "\n",
    "#Write your code below this line 👇\n",
    "if (number % 2) == 0:\n",
    "    print(\"This is an even number. \")\n",
    "else:\n",
    "    print(\"This is an odd number.\")\n",
    "\n"
   ]
  },
  {
   "cell_type": "code",
   "execution_count": 9,
   "metadata": {},
   "outputs": [
    {
     "output_type": "stream",
     "name": "stdout",
     "text": [
      "29\nYour BMI is 29, you are slightly overweight.\n\n"
     ]
    }
   ],
   "source": [
    "# BMI Calculator (Upgraded)\n",
    "\n",
    "# 🚨 Don't change the code below 👇\n",
    "height = float(input(\"enter your height in m: \"))# 1.7\n",
    "weight = float(input(\"enter your weight in kg: \"))# 83.9\n",
    "# 🚨 Don't change the code above 👆\n",
    "#Write your code below this line 👇\n",
    "\n",
    "##########################################################\n",
    "# turn inputs into floats\n",
    "num_height = float(height)\n",
    "num_weight = float(weight)\n",
    "\n",
    "# calculate bmi with floats\n",
    "bmi_temp = round(num_weight / (num_height**2))\n",
    "\n",
    "# turn result of calc into int\n",
    "bmi = int(bmi_temp)\n",
    "print(bmi)\n",
    "\n",
    "if bmi <= 18.5:\n",
    "    print(f\"Your BMI is {bmi}, you are underweight.\\n\")\n",
    "elif bmi <= 25:\n",
    "    print(f\"Your BMI is {bmi}, you have a normal weight.\\n\")\n",
    "elif bmi <= 30:\n",
    "    print(f\"Your BMI is {bmi}, you are slightly overweight.\\n\")\n",
    "elif bmi <= 35:\n",
    "    print(f\"Your BMI is {bmi}, you are obese.\\n\")\n",
    "elif bmi > 35:\n",
    "    print(f\"Your BMI is {bmi}, you are clinically obese.\\n\")   \n",
    "else:\n",
    "    print(f\"You might have entered something wrong.\\n\") \n"
   ]
  },
  {
   "cell_type": "code",
   "execution_count": 13,
   "metadata": {},
   "outputs": [
    {
     "output_type": "stream",
     "name": "stdout",
     "text": [
      "The year 2100, is NOT a leap year.\n"
     ]
    }
   ],
   "source": [
    "# Leap Year\n",
    "\n",
    "# 🚨 Don't change the code below 👇\n",
    "year = int(input(\"Which year do you want to check? \"))\n",
    "# 🚨 Don't change the code above 👆\n",
    "\n",
    "# on every year that is evenly divisible by 4 \n",
    "# **except** every year that is evenly divisible by 100 \n",
    "# **unless** the year is also evenly divisible by 400\n",
    "\n",
    "#Write your code below this line 👇\n",
    "\n",
    "if year % 4 == 0:\n",
    "    if year % 100 == 0:\n",
    "        if year % 400 == 0:\n",
    "            print(f\"The year {year}, IS a leap year.\")\n",
    "        else:\n",
    "            print(f\"The year {year}, is NOT a leap year.\")\n",
    "    else:\n",
    "        print(f\"The year {year}, IS a leap year.\")\n",
    "else: \n",
    "    print(f\"The year {year}, is NOT leap year.\")\n",
    "\n",
    "\n"
   ]
  },
  {
   "cell_type": "code",
   "execution_count": 26,
   "metadata": {},
   "outputs": [
    {
     "output_type": "stream",
     "name": "stdout",
     "text": [
      "Welcome to Python Pizza Deliveries!\n",
      "You want a large pizza for $25.\n",
      "With pepperoni, it'll be an extra $3. So your bill will be $28.\n",
      "With extra cheese, it'll be an extra $1. So your bill will be $29.\n"
     ]
    }
   ],
   "source": [
    "# Pizza Order\n",
    "\n",
    "# 🚨 Don't change the code below 👇\n",
    "print(\"Welcome to Python Pizza Deliveries!\")\n",
    "size = input(\"What size pizza do you want? S, M, or L \")\n",
    "add_pepperoni = input(\"Do you want pepperoni? Y or N \")\n",
    "extra_cheese = input(\"Do you want extra cheese? Y or N \")\n",
    "# 🚨 Don't change the code above 👆\n",
    "\n",
    "#Write your code below this line 👇\n",
    "bill = 0\n",
    "\n",
    "# price for small pizza\n",
    "if size == \"S\":\n",
    "    bill += 15\n",
    "    print(f\"You want a small pizza for ${bill}.\")\n",
    "    if add_pepperoni == \"Y\":\n",
    "        bill += 2\n",
    "        print(f\"With pepperoni, it'll be an extra $2. So your bill will be ${bill}.\")\n",
    "    if extra_cheese == \"Y\":\n",
    "        bill += 1\n",
    "        print(f\"With extra cheese, it'll be an extra $1. So your bill will be ${bill}.\")\n",
    "\n",
    "\n",
    "\n",
    "# price for medium pizza\n",
    "if size == \"M\":\n",
    "    bill += 20\n",
    "    print(f\"You want a medium pizza for ${bill}.\")\n",
    "    if add_pepperoni == \"Y\":\n",
    "        bill += 3\n",
    "        print(f\"With pepperoni, it'll be an extra $3. So your bill will be ${bill}.\")\n",
    "    if extra_cheese == \"Y\":\n",
    "        bill += 1\n",
    "        print(f\"With extra cheese, it'll be an extra $1. So your bill will be ${bill}.\")\n",
    "\n",
    "\n",
    "# price for large pizza\n",
    "if size == \"L\":\n",
    "    bill += 25\n",
    "    print(f\"You want a large pizza for ${bill}.\")\n",
    "    if add_pepperoni == \"Y\":\n",
    "        bill += 3\n",
    "        print(f\"With pepperoni, it'll be an extra $3. So your bill will be ${bill}.\")\n",
    "    if extra_cheese == \"Y\":\n",
    "        bill += 1\n",
    "        print(f\"With extra cheese, it'll be an extra $1. So your bill will be ${bill}.\")\n",
    "\n",
    "\n",
    "\n",
    "\n",
    "# if add_pepperoni == \"y\"\n",
    "#   if size == \"S\":\n",
    "#        bill += 2\n",
    "#    else:\n",
    "#        bill += 3\n",
    "#\n",
    "# if extra_cheese == \"Y\":\n",
    "#   bill +=1\n",
    "#"
   ]
  },
  {
   "cell_type": "code",
   "execution_count": 55,
   "metadata": {},
   "outputs": [
    {
     "output_type": "stream",
     "name": "stdout",
     "text": [
      "Welcome to the Love Calculator!\n",
      "first name: paulo \n",
      "second name: najera\n",
      "The true count is 2. \n",
      "The love count is 4. \n",
      "The total love score is 24.\n",
      "Love score is still 24\n",
      "Your score is 24.\n"
     ]
    }
   ],
   "source": [
    "# Love Calculator\n",
    "\n",
    "# 🚨 Don't change the code below 👇\n",
    "print(\"Welcome to the Love Calculator!\")\n",
    "name1 = input(\"What is your name? \\n\")\n",
    "name2 = input(\"What is their name? \\n\")\n",
    "# 🚨 Don't change the code above 👆\n",
    "\n",
    "#Write your code below this line 👇\n",
    "\n",
    "lower_name1 = name1.lower()\n",
    "lower_name2 = name2.lower()\n",
    "\n",
    "print(f\"first name: {lower_name1} \\nsecond name: {lower_name2}\")\n",
    "\n",
    "# combine both names into a string\n",
    "\n",
    "for i in name1:\n",
    "    t_count = name1.count(\"t\")\n",
    "    r_count = name1.count(\"r\")\n",
    "    u_count = name1.count(\"u\")\n",
    "    e_count = name1.count(\"e\")\n",
    "    l_count = name1.count(\"l\")\n",
    "    o_count = name1.count(\"o\")\n",
    "    v_count = name1.count(\"v\")\n",
    "    e_count = name1.count(\"e\")\n",
    "\n",
    "for j in name2:\n",
    "    t_count2 = name1.count(\"t\")\n",
    "    r_count2 = name1.count(\"r\")\n",
    "    u_count2 = name1.count(\"u\")\n",
    "    e_count2 = name1.count(\"e\")\n",
    "    l_count2 = name1.count(\"l\")\n",
    "    o_count2 = name1.count(\"o\")\n",
    "    v_count2 = name1.count(\"v\")\n",
    "    e_count2 = name1.count(\"e\")\n",
    "\n",
    "true_count = t_count + r_count + u_count + e_count + t_count2 + r_count2 + u_count2 + e_count2\n",
    "love_count = l_count + o_count + v_count + e_count + l_count2 + o_count2 + v_count2 + e_count2\n",
    "print(f\"The true count is {true_count}. \")\n",
    "print(f\"The love count is {love_count}. \")\n",
    "\n",
    "print(f\"The total love score is {true_count}{love_count}.\")\n",
    "\n",
    "love_score = int(str(true_count) + str(love_count))\n",
    "print(f\"Love score is still {love_score}\")\n",
    "\n",
    "num_love_score = int(love_score)\n",
    "\n",
    "if num_love_score < 10 or num_love_score > 90:\n",
    "    print(f\"Your score is {num_love_score}, you go together like coke and mentos.\")\n",
    "if num_love_score < 50 and num_love_score > 40:\n",
    "    print(f\"Your score is {num_love_score}, you are alright together.\")\n",
    "else:\n",
    "    print(f\"Your score is {num_love_score}.\")\n",
    "\n",
    "\n"
   ]
  }
 ]
}