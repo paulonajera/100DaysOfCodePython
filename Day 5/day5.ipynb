{
 "metadata": {
  "language_info": {
   "codemirror_mode": {
    "name": "ipython",
    "version": 3
   },
   "file_extension": ".py",
   "mimetype": "text/x-python",
   "name": "python",
   "nbconvert_exporter": "python",
   "pygments_lexer": "ipython3",
   "version": "3.7.4-final"
  },
  "orig_nbformat": 2,
  "kernelspec": {
   "name": "python3",
   "display_name": "Python 3",
   "language": "python"
  }
 },
 "nbformat": 4,
 "nbformat_minor": 2,
 "cells": [
  {
   "cell_type": "code",
   "execution_count": 7,
   "metadata": {},
   "outputs": [
    {
     "output_type": "stream",
     "name": "stdout",
     "text": [
      "0 180\n1 304\n2 469\n3 642\n4 831\nThe average height is: 166\n"
     ]
    }
   ],
   "source": [
    "# Average Height\n",
    "\n",
    "# 🚨 Don't change the code below 👇\n",
    "student_heights = input(\"Input a list of student heights \").split()\n",
    "for n in range(0, len(student_heights)):\n",
    "  student_heights[n] = int(student_heights[n])\n",
    "# 🚨 Don't change the code above 👆\n",
    "    \n",
    "\n",
    "#Write your code below this row 👇\n",
    "total = 0\n",
    "for height in range(0, len(student_heights)):\n",
    "    total += height\n",
    "    print(height, total)\n",
    "\n",
    "average_height = round(total / len(student_heights))\n",
    "\n",
    "print(f\"The average height is: {average_height}\")\n",
    "\n"
   ]
  },
  {
   "cell_type": "code",
   "execution_count": 11,
   "metadata": {},
   "outputs": [
    {
     "output_type": "stream",
     "name": "stdout",
     "text": [
      "[78, 65, 89, 86, 55, 91, 64, 89]\n78\n89\n91\nThe max is: 91\n"
     ]
    }
   ],
   "source": [
    "# Highest Score\n",
    "\n",
    "# 🚨 Don't change the code below 👇\n",
    "student_scores = input(\"Input a list of student scores \").split()\n",
    "for n in range(0, len(student_scores)):\n",
    "  student_scores[n] = int(student_scores[n])\n",
    "print(student_scores)\n",
    "# 🚨 Don't change the code above 👆\n",
    "\n",
    "#Write your code below this row 👇\n",
    "temp = 0\n",
    "for j in range(0, len(student_scores)):\n",
    "    if temp < student_scores[j]:\n",
    "        temp = student_scores[j]\n",
    "        print(temp)\n",
    "max = temp\n",
    "print(f\"The max is: {max}\")\n"
   ]
  },
  {
   "cell_type": "code",
   "execution_count": null,
   "metadata": {},
   "outputs": [],
   "source": []
  }
 ]
}