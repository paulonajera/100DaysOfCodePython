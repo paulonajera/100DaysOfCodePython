{
 "metadata": {
  "language_info": {
   "codemirror_mode": {
    "name": "ipython",
    "version": 3
   },
   "file_extension": ".py",
   "mimetype": "text/x-python",
   "name": "python",
   "nbconvert_exporter": "python",
   "pygments_lexer": "ipython3",
   "version": "3.7.4-final"
  },
  "orig_nbformat": 2,
  "kernelspec": {
   "name": "python3",
   "display_name": "Python 3",
   "language": "python"
  }
 },
 "nbformat": 4,
 "nbformat_minor": 2,
 "cells": [
  {
   "cell_type": "code",
   "execution_count": 7,
   "metadata": {},
   "outputs": [
    {
     "output_type": "stream",
     "name": "stdout",
     "text": [
      "0 180\n1 304\n2 469\n3 642\n4 831\nThe average height is: 166\n"
     ]
    }
   ],
   "source": [
    "# Average Height\n",
    "\n",
    "# 🚨 Don't change the code below 👇\n",
    "student_heights = input(\"Input a list of student heights \").split()\n",
    "for n in range(0, len(student_heights)):\n",
    "  student_heights[n] = int(student_heights[n])\n",
    "# 🚨 Don't change the code above 👆\n",
    "    \n",
    "\n",
    "#Write your code below this row 👇\n",
    "total = 0\n",
    "for height in range(0, len(student_heights)):\n",
    "    total += height\n",
    "    print(height, total)\n",
    "\n",
    "average_height = round(total / len(student_heights))\n",
    "\n",
    "print(f\"The average height is: {average_height}\")\n",
    "\n"
   ]
  },
  {
   "cell_type": "code",
   "execution_count": 11,
   "metadata": {},
   "outputs": [
    {
     "output_type": "stream",
     "name": "stdout",
     "text": [
      "[78, 65, 89, 86, 55, 91, 64, 89]\n78\n89\n91\nThe max is: 91\n"
     ]
    }
   ],
   "source": [
    "# Highest Score\n",
    "\n",
    "# 🚨 Don't change the code below 👇\n",
    "student_scores = input(\"Input a list of student scores \").split()\n",
    "for n in range(0, len(student_scores)):\n",
    "  student_scores[n] = int(student_scores[n])\n",
    "print(student_scores)\n",
    "# 🚨 Don't change the code above 👆\n",
    "\n",
    "#Write your code below this row 👇\n",
    "temp = 0\n",
    "for j in range(0, len(student_scores)):\n",
    "    if temp < student_scores[j]:\n",
    "        temp = student_scores[j]\n",
    "        print(temp)\n",
    "max = temp\n",
    "print(f\"The max is: {max}\")\n"
   ]
  },
  {
   "cell_type": "code",
   "execution_count": 3,
   "metadata": {},
   "outputs": [
    {
     "output_type": "stream",
     "name": "stdout",
     "text": [
      "2550\n"
     ]
    }
   ],
   "source": [
    "# Adding Evens\n",
    "\n",
    "#Write your code below this row 👇\n",
    "\n",
    "even = 0\n",
    "for number in range(0, 101, 2):\n",
    "    even += number\n",
    "print(even)"
   ]
  },
  {
   "cell_type": "code",
   "execution_count": 7,
   "metadata": {},
   "outputs": [
    {
     "output_type": "stream",
     "name": "stdout",
     "text": [
      "1\n2\nFizzBuzz\n4\nBuzz\nFizzBuzz\n7\n8\nFizzBuzz\nBuzz\n11\nFizzBuzz\n13\n14\nFizz\n16\n17\nFizzBuzz\n19\nBuzz\nFizzBuzz\n22\n23\nFizzBuzz\nBuzz\n26\nFizzBuzz\n28\n29\nFizz\n31\n32\nFizzBuzz\n34\nBuzz\nFizzBuzz\n37\n38\nFizzBuzz\nBuzz\n41\nFizzBuzz\n43\n44\nFizz\n46\n47\nFizzBuzz\n49\nBuzz\nFizzBuzz\n52\n53\nFizzBuzz\nBuzz\n56\nFizzBuzz\n58\n59\nFizz\n61\n62\nFizzBuzz\n64\nBuzz\nFizzBuzz\n67\n68\nFizzBuzz\nBuzz\n71\nFizzBuzz\n73\n74\nFizz\n76\n77\nFizzBuzz\n79\nBuzz\nFizzBuzz\n82\n83\nFizzBuzz\nBuzz\n86\nFizzBuzz\n88\n89\nFizz\n91\n92\nFizzBuzz\n94\nBuzz\nFizzBuzz\n97\n98\nFizzBuzz\nBuzz\n"
     ]
    }
   ],
   "source": [
    "# FizzBuzz\n",
    "#Write your code below this row 👇\n",
    "\n",
    "for numb in range(1,101):\n",
    "    if numb % 3 == 0 and numb % 5 == 0:\n",
    "        print(\"Fizz\")\n",
    "    elif numb % 5 == 0:\n",
    "        print(\"Buzz\")\n",
    "    elif numb % 3 == 0:\n",
    "        print(\"FizzBuzz\")\n",
    "    else:\n",
    "        print(numb)\n"
   ]
  },
  {
   "cell_type": "code",
   "execution_count": 26,
   "metadata": {},
   "outputs": [
    {
     "output_type": "stream",
     "name": "stdout",
     "text": [
      "Welcome to the PyPassword Generator!\n",
      "wxzt(*26\n"
     ]
    }
   ],
   "source": [
    "#Password Generator Project\n",
    "import random\n",
    "letters = ['a', 'b', 'c', 'd', 'e', 'f', 'g', 'h', 'i', 'j', 'k', 'l', 'm', 'n', 'o', 'p', 'q', 'r', 's', 't', 'u', 'v', 'w', 'x', 'y', 'z', 'A', 'B', 'C', 'D', 'E', 'F', 'G', 'H', 'I', 'J', 'K', 'L', 'M', 'N', 'O', 'P', 'Q', 'R', 'S', 'T', 'U', 'V', 'W', 'X', 'Y', 'Z']\n",
    "numbers = ['0', '1', '2', '3', '4', '5', '6', '7', '8', '9']\n",
    "symbols = ['!', '#', '$', '%', '&', '(', ')', '*', '+']\n",
    "\n",
    "print(\"Welcome to the PyPassword Generator!\")\n",
    "nr_letters= int(input(\"How many letters would you like in your password?\\n\")) \n",
    "nr_symbols = int(input(f\"How many symbols would you like?\\n\"))\n",
    "nr_numbers = int(input(f\"How many numbers would you like?\\n\"))\n",
    "\n",
    "#Eazy Level - Order not randomised:\n",
    "#e.g. 4 letter, 2 symbol, 2 number = JduE&!91\n",
    "\n",
    "\n",
    "#Hard Level - Order of characters randomised:\n",
    "#e.g. 4 letter, 2 symbol, 2 number = g^2jk8&P\n",
    "\n",
    "\n",
    "#########################################################\n",
    "#Should have used random.choice() and random.shuffle()\n",
    "\n",
    "\n",
    "\n",
    "pass_letter = \"\"\n",
    "for l in range(1, nr_letters + 1):\n",
    "    letter_num = random.randint(0, 26)\n",
    "    pass_letter += letters[letter_num] \n",
    "#print(pass_letter)\n",
    "\n",
    "pass_symbol = \"\"\n",
    "for s in range(1, nr_symbols + 1):\n",
    "    symbol_num = random.randint(0, 8)\n",
    "    pass_symbol += symbols[symbol_num] \n",
    "#print(pass_symbol)\n",
    "\n",
    "pass_number = \"\"\n",
    "for n in range(1, nr_numbers + 1):\n",
    "    number_num = random.randint(0, 10)\n",
    "    pass_number += numbers[number_num] \n",
    "#print(pass_number)\n",
    "\n",
    "\n",
    "print(f\"{pass_letter}{pass_symbol}{pass_number}\")"
   ]
  },
  {
   "cell_type": "code",
   "execution_count": 27,
   "metadata": {},
   "outputs": [
    {
     "output_type": "stream",
     "name": "stdout",
     "text": [
      "['T', 'f', 'U', 'F', '!', '#', '8', '2']\n['#', 'U', 'T', '8', 'f', 'F', '2', '!']\nYour password is: #UT8fF2!\n"
     ]
    }
   ],
   "source": [
    "# Password Generator Solution\n",
    "password_list = []\n",
    "\n",
    "for char in range(1, nr_letters + 1):\n",
    "  password_list.append(random.choice(letters))\n",
    "\n",
    "for char in range(1, nr_symbols + 1):\n",
    "  password_list += random.choice(symbols)\n",
    "\n",
    "for char in range(1, nr_numbers + 1):\n",
    "  password_list += random.choice(numbers)\n",
    "\n",
    "print(password_list)\n",
    "random.shuffle(password_list)\n",
    "print(password_list)\n",
    "\n",
    "password = \"\"\n",
    "for char in password_list:\n",
    "  password += char\n",
    "\n",
    "print(f\"Your password is: {password}\")"
   ]
  },
  {
   "cell_type": "code",
   "execution_count": null,
   "metadata": {},
   "outputs": [],
   "source": []
  }
 ]
}